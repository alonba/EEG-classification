{
 "cells": [
  {
   "cell_type": "code",
   "execution_count": 1,
   "metadata": {},
   "outputs": [],
   "source": [
    "import tensorflow as tf\n",
    "from tensorflow import keras\n",
    "from tensorflow.keras import layers\n",
    "from datetime import date\n",
    "import numpy as np\n",
    "import mne as mne\n",
    "import matplotlib.pyplot as plt\n",
    "from sklearn.model_selection import train_test_split\n",
    "import pandas as pd\n",
    "from sklearn.metrics import confusion_matrix\n",
    "\n",
    "ELECTRODES_NUM = 35\n",
    "\n",
    "today = date.today().strftime(\"%b-%d-%Y\")\n",
    "root_folder = f\"data/{today}\"\n",
    "\n",
    "def product(*args, repeat=1):\n",
    "    # product('ABCD', 'xy') --> Ax Ay Bx By Cx Cy Dx Dy\n",
    "    # product(range(2), repeat=3) --> 000 001 010 011 100 101 110 111\n",
    "    pools = [tuple(pool) for pool in args] * repeat\n",
    "    result = [[]]\n",
    "    for pool in pools:\n",
    "        result = [x+[y] for x in result for y in pool]\n",
    "    for prod in result:\n",
    "        yield tuple(prod)\n",
    "\n",
    "def plot_confusion_matrix(cm, class_names,flag):\n",
    "    \"\"\"\n",
    "    Returns a matplotlib figure containing the plotted confusion matrix.\n",
    "    \n",
    "    Args:\n",
    "       cm (array, shape = [n, n]): a confusion matrix of integer classes\n",
    "       class_names (array, shape = [n]): String names of the integer classes\n",
    "    \"\"\"\n",
    "    \n",
    "    figure = plt.figure(figsize=(8, 8))\n",
    "    plt.imshow(cm, interpolation='nearest', cmap=plt.cm.Blues)\n",
    "    plt.title(\"Confusion matrix\")\n",
    "    plt.colorbar()\n",
    "    tick_marks = np.arange(len(class_names))\n",
    "    plt.xticks(tick_marks, class_names, rotation=45)\n",
    "    plt.yticks(tick_marks, class_names)\n",
    "    \n",
    "    # Normalize the confusion matrix.\n",
    "    cm_norm = np.around(cm.astype('float') / cm.sum(axis=1)[:, np.newaxis], decimals=2)\n",
    "    \n",
    "    # Use white text if squares are dark; otherwise black.\n",
    "    threshold = cm_norm.max() / 2.\n",
    "    \n",
    "    for i, j in product(range(cm_norm.shape[0]), range(cm_norm.shape[1])):\n",
    "        color = \"white\" if cm_norm[i, j] > 0.34 else \"black\"\n",
    "        plt.text(j, i, '({:.0f}%)\\n {}'.format(cm_norm[i, j]*100, cm[i,j]), horizontalalignment=\"center\", color=color, linespacing=3, fontsize='large')\n",
    "\n",
    "    plt.tight_layout()\n",
    "    plt.ylabel('True label')\n",
    "    plt.xlabel('Predicted label')\n",
    "    return figure\n",
    "\n",
    "def one_hot_encoder(labels, classes_num = 3):\n",
    "    epochs_num = labels.shape[0]\n",
    "    labels_onehot = np.zeros((epochs_num, classes_num))\n",
    "    for i in range(epochs_num):\n",
    "        labels_onehot[i, int(labels[i]-1)] = 1\n",
    "    return labels_onehot\n",
    "\n",
    "def print_confusion_matrix(model, data, true_labels_onehot):\n",
    "    ###### Evaluation\n",
    "    prediction = model.predict(data)\n",
    "    y_hat = np.zeros(np.shape(true_labels_onehot))\n",
    "    for i in range(np.shape(y_hat)[0]):\n",
    "        y_hat[i,np.argmax(prediction[i,:])] = 1\n",
    "    delta = np.sum(abs(y_hat - true_labels_onehot), axis=1)\n",
    "    accuracy = len(delta[delta==0])/len(delta)*100\n",
    "\n",
    "    # Calculating Confusion Matrix\n",
    "    y_pred = np.argmax(y_hat, axis=1)\n",
    "    y_true = np.argmax(true_labels_onehot, axis=1)\n",
    "    cm = confusion_matrix(y_true, y_pred)\n",
    "    \n",
    "    class_names=[\"Right\",\"Left\",\"No Movement\"]\n",
    "    figure = plot_confusion_matrix(cm, class_names=class_names, flag=1)"
   ]
  },
  {
   "cell_type": "code",
   "execution_count": 2,
   "metadata": {},
   "outputs": [
    {
     "name": "stdout",
     "output_type": "stream",
     "text": [
      "Reading C:\\Users\\alonb\\OneDrive - Technion\\טכניון\\סמסטר ט' - אביב 2022\\פרוייקט א\\מאטלב\\igor_data\\08_22_16_Roni\\Training\\EEG SET FILTERED\\EEG_Data_01.fdt\n"
     ]
    },
    {
     "name": "stderr",
     "output_type": "stream",
     "text": [
      "C:\\Users\\alonb\\AppData\\Local\\Temp\\ipykernel_38836\\4197552559.py:1: RuntimeWarning: The data contains 'boundary' events, indicating data discontinuities. Be cautious of filtering and epoching around these events.\n",
      "  raw = mne.io.read_raw(r\"C:\\Users\\alonb\\OneDrive - Technion\\טכניון\\סמסטר ט' - אביב 2022\\פרוייקט א\\מאטלב\\igor_data\\08_22_16_Roni\\Training\\EEG SET FILTERED\\EEG_Data_01.set\")\n"
     ]
    },
    {
     "ename": "TypeError",
     "evalue": "'module' object is not callable",
     "output_type": "error",
     "traceback": [
      "\u001b[1;31m---------------------------------------------------------------------------\u001b[0m",
      "\u001b[1;31mTypeError\u001b[0m                                 Traceback (most recent call last)",
      "\u001b[1;32mc:\\Users\\alonb\\OneDrive - Technion\\טכניון\\סמסטר ט' - אביב 2022\\פרוייקט א\\eeg-bss\\cnn_on_roni_original.ipynb Cell 2\u001b[0m in \u001b[0;36m<cell line: 2>\u001b[1;34m()\u001b[0m\n\u001b[0;32m      <a href='vscode-notebook-cell:/c%3A/Users/alonb/OneDrive%20-%20Technion/%D7%98%D7%9B%D7%A0%D7%99%D7%95%D7%9F/%D7%A1%D7%9E%D7%A1%D7%98%D7%A8%20%D7%98%27%20-%20%D7%90%D7%91%D7%99%D7%91%202022/%D7%A4%D7%A8%D7%95%D7%99%D7%99%D7%A7%D7%98%20%D7%90/eeg-bss/cnn_on_roni_original.ipynb#W1sZmlsZQ%3D%3D?line=0'>1</a>\u001b[0m raw \u001b[39m=\u001b[39m mne\u001b[39m.\u001b[39mio\u001b[39m.\u001b[39mread_raw(\u001b[39mr\u001b[39m\u001b[39m\"\u001b[39m\u001b[39mC:\u001b[39m\u001b[39m\\\u001b[39m\u001b[39mUsers\u001b[39m\u001b[39m\\\u001b[39m\u001b[39malonb\u001b[39m\u001b[39m\\\u001b[39m\u001b[39mOneDrive - Technion\u001b[39m\u001b[39m\\\u001b[39m\u001b[39mטכניון\u001b[39m\u001b[39m\\\u001b[39m\u001b[39mסמסטר ט\u001b[39m\u001b[39m'\u001b[39m\u001b[39m - אביב 2022\u001b[39m\u001b[39m\\\u001b[39m\u001b[39mפרוייקט א\u001b[39m\u001b[39m\\\u001b[39m\u001b[39mמאטלב\u001b[39m\u001b[39m\\\u001b[39m\u001b[39migor_data\u001b[39m\u001b[39m\\\u001b[39m\u001b[39m08_22_16_Roni\u001b[39m\u001b[39m\\\u001b[39m\u001b[39mTraining\u001b[39m\u001b[39m\\\u001b[39m\u001b[39mEEG SET FILTERED\u001b[39m\u001b[39m\\\u001b[39m\u001b[39mEEG_Data_01.set\u001b[39m\u001b[39m\"\u001b[39m)\n\u001b[1;32m----> <a href='vscode-notebook-cell:/c%3A/Users/alonb/OneDrive%20-%20Technion/%D7%98%D7%9B%D7%A0%D7%99%D7%95%D7%9F/%D7%A1%D7%9E%D7%A1%D7%98%D7%A8%20%D7%98%27%20-%20%D7%90%D7%91%D7%99%D7%91%202022/%D7%A4%D7%A8%D7%95%D7%99%D7%99%D7%A7%D7%98%20%D7%90/eeg-bss/cnn_on_roni_original.ipynb#W1sZmlsZQ%3D%3D?line=1'>2</a>\u001b[0m epochs \u001b[39m=\u001b[39m mne\u001b[39m.\u001b[39;49mepochs(raw)\n\u001b[0;32m      <a href='vscode-notebook-cell:/c%3A/Users/alonb/OneDrive%20-%20Technion/%D7%98%D7%9B%D7%A0%D7%99%D7%95%D7%9F/%D7%A1%D7%9E%D7%A1%D7%98%D7%A8%20%D7%98%27%20-%20%D7%90%D7%91%D7%99%D7%91%202022/%D7%A4%D7%A8%D7%95%D7%99%D7%99%D7%A7%D7%98%20%D7%90/eeg-bss/cnn_on_roni_original.ipynb#W1sZmlsZQ%3D%3D?line=2'>3</a>\u001b[0m epochs\n",
      "\u001b[1;31mTypeError\u001b[0m: 'module' object is not callable"
     ]
    }
   ],
   "source": [
    "raw = mne.io.read_raw(r\"C:\\Users\\alonb\\OneDrive - Technion\\טכניון\\סמסטר ט' - אביב 2022\\פרוייקט א\\מאטלב\\igor_data\\08_22_16_Roni\\Training\\EEG SET FILTERED\\EEG_Data_01.set\")\n",
    "epochs = mne.epochs(raw)\n",
    "epochs\n",
    "# labels = epochs.events[:,2]\n",
    "# labels_onehot = one_hot_encoder(labels)\n",
    "# print(labels.shape)"
   ]
  },
  {
   "cell_type": "code",
   "execution_count": null,
   "metadata": {},
   "outputs": [],
   "source": [
    "# Transform data\n",
    "electrodes_names_grid = np.array([\n",
    "    ['F5','F3','F1','Fz','F2','F4','F6'],\n",
    "    ['FC5','FC3','FC1','FCz','FC2','FC4','FC6'],\n",
    "    ['C5','C3','C1','Cz','C2','C4','C6'],\n",
    "    ['CP5','CP3','CP1','CPz','CP2','CP4','CP6'],\n",
    "    ['P5','P3','P1','Pz','P2','P4','P6']\n",
    "])\n",
    "ROW_NUM, COL_NUM = electrodes_names_grid.shape\n",
    "TIME_SAMPLES_NUM = epochs.times.shape[0]\n",
    "EPOCHS_NUM = epochs.selection.shape[0]\n",
    "\n",
    "data_reshaped = np.empty((ROW_NUM, COL_NUM, EPOCHS_NUM, TIME_SAMPLES_NUM))\n",
    "\n",
    "for i in range(ROW_NUM):\n",
    "    for j in range(COL_NUM):\n",
    "        channel_name = [electrodes_names_grid[i,j]]\n",
    "        data_reshaped[i,j,:,:] = np.squeeze(epochs.copy().pick_channels(channel_name).get_data())\n",
    "        \n",
    "data_reshaped = np.moveaxis(data_reshaped, 2, 0)\n",
    "data_reshaped = np.expand_dims(data_reshaped, axis=4)\n",
    "\n",
    "X_train_val, X_test, y_train_val, y_test = train_test_split(data_reshaped, labels_onehot, test_size=0.2, random_state=123, stratify=labels_onehot)\n",
    "X_train, X_val, y_train, y_val = train_test_split(X_train_val, y_train_val, test_size=0.2, random_state=123, stratify=y_train_val)\n",
    "print(X_train.shape)\n",
    "print(X_val.shape)\n",
    "print(X_test.shape)\n",
    "print(y_train.shape)\n",
    "print(y_val.shape)\n",
    "print(y_test.shape)"
   ]
  },
  {
   "cell_type": "code",
   "execution_count": null,
   "metadata": {},
   "outputs": [],
   "source": [
    "model = keras.Sequential([\n",
    "    layers.Conv3D(20, (3,3,200), padding='valid', input_shape=(5, 7, TIME_SAMPLES_NUM, 1), activation=\"relu\"),\n",
    "    layers.Conv3D(10, (2,2,20), padding='valid', activation=\"relu\"),\n",
    "    layers.MaxPooling3D((2, 2, 50), strides=(1,1,50)),\n",
    "    layers.BatchNormalization(),\n",
    "    layers.Flatten(),\n",
    "    layers.Dense(3, activation=\"softmax\")\n",
    "])\n",
    "\n",
    "model.compile(optimizer='adam',\n",
    "              loss=keras.losses.CategoricalCrossentropy(),\n",
    "              metrics=['accuracy'])\n",
    "\n",
    "model.summary()"
   ]
  },
  {
   "cell_type": "code",
   "execution_count": null,
   "metadata": {},
   "outputs": [],
   "source": [
    "history = model.fit(X_train, y_train, epochs=15, validation_data=(X_val, y_val))"
   ]
  },
  {
   "cell_type": "code",
   "execution_count": null,
   "metadata": {},
   "outputs": [],
   "source": [
    "# Plot Accuracy graph (train set and val set)\n",
    "metrics_df = pd.DataFrame(history.history)\n",
    "ax = metrics_df[[\"accuracy\", \"val_accuracy\"]].plot(title=\"Accuracy\");\n",
    "ax.set_xlabel(\"Epochs\")\n",
    "ax.set_ylabel(\"Accuracy\")\n",
    "ax.set_title(\"Accuracy\")\n",
    "ax.legend([\"Training accuracy\", \"Validation accuracy\"]);\n",
    "\n",
    "# Plot Loss graph (train set and val set)\n",
    "axe = metrics_df[[\"loss\", \"val_loss\"]].plot(title=\"Loss\");\n",
    "axe.set_xlabel(\"Epochs\")\n",
    "axe.set_ylabel(\"Loss Value\")\n",
    "axe.set_title(\"Loss\")\n",
    "axe.legend([\"Training loss\", \"Validation loss\"]);\n",
    "\n",
    "print_confusion_matrix(model, X_val, y_val)"
   ]
  }
 ],
 "metadata": {
  "kernelspec": {
   "display_name": "Python 3.9.12 ('eeg_bss')",
   "language": "python",
   "name": "python3"
  },
  "language_info": {
   "codemirror_mode": {
    "name": "ipython",
    "version": 3
   },
   "file_extension": ".py",
   "mimetype": "text/x-python",
   "name": "python",
   "nbconvert_exporter": "python",
   "pygments_lexer": "ipython3",
   "version": "3.9.12 (main, Apr  4 2022, 05:22:27) [MSC v.1916 64 bit (AMD64)]"
  },
  "orig_nbformat": 4,
  "vscode": {
   "interpreter": {
    "hash": "67e3c108329f12f5017428fe2a369adc30e11445a3ac975861b336e7f7941808"
   }
  }
 },
 "nbformat": 4,
 "nbformat_minor": 2
}
