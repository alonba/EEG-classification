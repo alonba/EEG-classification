{
    "cells": [
        {
            "attachments": {},
            "cell_type": "markdown",
            "metadata": {},
            "source": [
                "# EEG motor imagery classification using ICA\n",
                "#### Author - Alon Ben-Arieh\n",
                "In this project we've used ICA to extract valuable information from EEG signals.\n",
                "\n",
                "The main stages of the projects are:\n",
                "1. Apply ICA on the data\n",
                "2. Use Naive Bayes classifiers to find which ICs are meaningful and informative.\n",
                "3. Reconstruct the electrodes data only from the informative ICs.\n",
                "4. Feed Igor's CNN with the reconstructed data.\n",
                "\n",
                "The project was done under the supervision of Miri Binyamini."
            ]
        },
        {
            "cell_type": "code",
            "execution_count": 2,
            "metadata": {},
            "outputs": [],
            "source": [
                "from datetime import date\n",
                "import numpy as np\n",
                "import mne as mne\n",
                "import matplotlib.pyplot as plt\n",
                "\n",
                "# Define constants\n",
                "ELECTRODES_NUM = 35\n",
                "\n",
                "# Define data import and export folders paths\n",
                "today = date.today().strftime(\"%b-%d-%Y\")\n",
                "month = date.today().strftime(\"%B\")\n",
                "root_folder = f\"data/{month}/{today}\"\n",
                "matlab_data_folder = \"data/reut-matlab\""
            ]
        },
        {
            "cell_type": "code",
            "execution_count": 4,
            "metadata": {},
            "outputs": [
                {
                    "name": "stdout",
                    "output_type": "stream",
                    "text": [
                        "Extracting parameters from c:\\Users\\alonb\\OneDrive - Technion\\טכניון\\סמסטר ט' - אביב 2022\\פרוייקט א\\eeg-bss\\data\\reut-matlab\\base_removed_short_35_electrodes_filtered_epoched_locations.set...\n",
                        "Not setting metadata\n",
                        "440 matching events found\n",
                        "No baseline correction applied\n",
                        "0 projection items activated\n",
                        "Ready.\n",
                        "Extracting parameters from c:\\Users\\alonb\\OneDrive - Technion\\טכניון\\סמסטר ט' - אביב 2022\\פרוייקט א\\eeg-bss\\data\\reut-matlab\\short_35_electrodes_filtered_epoched_locations.set...\n",
                        "Not setting metadata\n",
                        "440 matching events found\n",
                        "No baseline correction applied\n",
                        "0 projection items activated\n",
                        "Ready.\n",
                        "Total number of Epochs: 440\n",
                        "Train set size: 366. Left: 111 Right: 129 No Move: 126\n",
                        "Test set size: 74. Left: 27 Right: 24 No Move: 23\n"
                    ]
                }
            ],
            "source": [
                "# Fetch the data from the .set file\n",
                "base_removed_eeglab_epochs = mne.io.read_epochs_eeglab(matlab_data_folder + '/base_removed_short_35_electrodes_filtered_epoched_locations.set')\n",
                "eeglab_epochs = mne.io.read_epochs_eeglab(matlab_data_folder + '/short_35_electrodes_filtered_epoched_locations.set')\n",
                "\n",
                "# Trim the data\n",
                "trimmed_base_removed_eeglab_epochs = base_removed_eeglab_epochs.copy().crop(tmin=0.1, tmax=0.8)\n",
                "trimmed_eeglab_epochs = eeglab_epochs.copy().crop(tmin=0.1, tmax=0.8)\n",
                "\n",
                "# Create the train set and test set\n",
                "total_num_of_epochs = len(eeglab_epochs)\n",
                "\n",
                "train_set_indexes = []\n",
                "test_set_indexes = []\n",
                "for i in range(total_num_of_epochs):\n",
                "    random_num = np.random.rand()\n",
                "    if (random_num < 0.8):  # 80% chance of being here\n",
                "        train_set_indexes.append(i)\n",
                "    else:\n",
                "        test_set_indexes.append(i)\n",
                "\n",
                "train_set = trimmed_eeglab_epochs[train_set_indexes]\n",
                "test_set = trimmed_eeglab_epochs[test_set_indexes]\n",
                "base_removed_train_set = trimmed_base_removed_eeglab_epochs[train_set_indexes]\n",
                "base_removed_test_set = trimmed_base_removed_eeglab_epochs[test_set_indexes]\n",
                "\n",
                "print(f\"Total number of Epochs: {total_num_of_epochs}\")\n",
                "print(f\"Train set size: {len(train_set)}. Left: {len(train_set['Left'].selection)} Right: {len(train_set['Right'].selection)} No Move: {len(train_set['NoMove'].selection)}\")\n",
                "print(f\"Test set size: {len(test_set)}. Left: {len(test_set['Left'].selection)} Right: {len(test_set['Right'].selection)} No Move: {len(test_set['NoMove'].selection)}\")"
            ]
        },
        {
            "cell_type": "code",
            "execution_count": 5,
            "metadata": {},
            "outputs": [
                {
                    "name": "stdout",
                    "output_type": "stream",
                    "text": [
                        "Fitting ICA to data using 35 channels (please be patient, this may take a while)\n"
                    ]
                },
                {
                    "name": "stderr",
                    "output_type": "stream",
                    "text": [
                        "C:\\Users\\alonb\\AppData\\Local\\Temp\\ipykernel_1696\\3802390698.py:3: RuntimeWarning: The data has not been high-pass filtered. For good ICA performance, it should be high-pass filtered (e.g., with a 1.0 Hz lower bound) before fitting ICA.\n",
                        "  ica.fit(train_set)\n"
                    ]
                },
                {
                    "name": "stdout",
                    "output_type": "stream",
                    "text": [
                        "Selecting by number: 35 components\n",
                        "Fitting ICA took 21.1s.\n"
                    ]
                },
                {
                    "data": {
                        "text/html": [
                            "<table class=\"table table-hover table-striped table-sm table-responsive small\">\n",
                            "    <tr>\n",
                            "        <th>Method</th>\n",
                            "        <td>picard</td>\n",
                            "    </tr>\n",
                            "    <tr>\n",
                            "        <th>Fit</th>\n",
                            "        <td>147 iterations on epochs (128466 samples)</td>\n",
                            "    </tr>\n",
                            "    \n",
                            "    <tr>\n",
                            "        <th>ICA components</th>\n",
                            "        <td>35</td>\n",
                            "    </tr>\n",
                            "    <tr>\n",
                            "        <th>Explained variance</th>\n",
                            "        <td>100.0&nbsp;%</td>\n",
                            "    </tr>\n",
                            "    <tr>\n",
                            "        <th>Available PCA components</th>\n",
                            "        <td>35</td>\n",
                            "    </tr>\n",
                            "    <tr>\n",
                            "        <th>Channel types</th>\n",
                            "        <td>eeg</td>\n",
                            "    </tr>\n",
                            "    <tr>\n",
                            "        <th>ICA components marked for exclusion</th>\n",
                            "        <td>&mdash;</td>\n",
                            "    </tr>\n",
                            "    \n",
                            "</table>"
                        ],
                        "text/plain": [
                            "<ICA | epochs decomposition, method: picard (fit in 147 iterations on 128466 samples), 35 ICA components explaining 100.0 % of variance (35 PCA components available), channel types: eeg, no sources marked for exclusion>"
                        ]
                    },
                    "execution_count": 5,
                    "metadata": {},
                    "output_type": "execute_result"
                }
            ],
            "source": [
                "# Fit ICA on trimmed data\n",
                "ica = mne.preprocessing.ICA(n_components = ELECTRODES_NUM, method='picard')\n",
                "ica.fit(train_set)"
            ]
        },
        {
            "cell_type": "code",
            "execution_count": 6,
            "metadata": {},
            "outputs": [],
            "source": [
                "# Export the data\n",
                "# mne.export.export_epochs(root_folder + '/train_set.set', train_set, overwrite=True)\n",
                "# mne.export.export_epochs(root_folder + '/test_set.set', test_set, overwrite=True)\n",
                "mne.export.export_epochs(root_folder + '/base_removed_train_set.set', base_removed_train_set, overwrite=True)\n",
                "mne.export.export_epochs(root_folder + '/base_removed_test_set.set', base_removed_test_set, overwrite=True)\n",
                "# mne.export.export_epochs(root_folder + '/trimmed_base_removed_train_set.set', trimmed_base_removed_train_set, overwrite=True)\n",
                "# # mne.export.export_epochs(root_folder + '/trimmed_base_removed_test_set.set', trimmed_base_removed_test_set, overwrite=True)"
            ]
        },
        {
            "cell_type": "code",
            "execution_count": null,
            "metadata": {},
            "outputs": [],
            "source": [
                "# # Import the data\n",
                "# train_set = mne.io.read_epochs_eeglab(root_folder + '/train_set.set')\n",
                "# test_set = mne.io.read_epochs_eeglab(root_folder + '/test_set.set')\n",
                "base_removed_train_set = mne.io.read_epochs_eeglab(root_folder + '/base_removed_train_set.set')\n",
                "base_removed_test_set = mne.io.read_epochs_eeglab(root_folder + '/base_removed_test_set.set')\n",
                "# trimmed_base_removed_train_set = mne.io.read_epochs_eeglab(root_folder + '/trimmed_base_removed_train_set.set')\n",
                "# trimmed_base_removed_test_set = mne.io.read_epochs_eeglab(root_folder + '/trimmed_base_removed_test_set.set')\n",
                "# ica = mne.preprocessing.read_ica(root_folder + '/ica.fif')"
            ]
        },
        {
            "cell_type": "code",
            "execution_count": 7,
            "metadata": {},
            "outputs": [],
            "source": [
                "obj_train_ICs = ica.get_sources(base_removed_train_set)\n",
                "obj_test_ICs = ica.get_sources(base_removed_test_set)\n",
                "\n",
                "train_data = np.swapaxes(obj_train_ICs.copy().get_data(), 0, 1)\n",
                "test_data = np.swapaxes(obj_test_ICs.copy().get_data(), 0, 1)\n",
                "\n",
                "train_labels = obj_train_ICs.events[:,2]\n",
                "test_labels = obj_test_ICs.events[:,2]\n",
                "\n",
                "# train_ICs_left_data = obj_train_ICs['Left'].get_data()\n",
                "# train_ICs_right_data = obj_train_ICs['Right'].get_data()\n",
                "# train_ICs_no_move_data = obj_train_ICs['NoMove'].get_data()\n",
                "# train_ICs_sorted_data = np.swapaxes(np.concatenate([train_ICs_left_data, train_ICs_right_data, train_ICs_no_move_data]),0,1)\n",
                "# train_labels = [1] * train_ICs_left_data.shape[0] + [2] * train_ICs_right_data.shape[0] + [3]  * train_ICs_no_move_data.shape[0]\n",
                "\n",
                "# test_ICs_left_data = obj_test_ICs['Left'].get_data()\n",
                "# test_ICs_right_data = obj_test_ICs['Right'].get_data()\n",
                "# test_ICs_no_move_data = obj_test_ICs['NoMove'].get_data()\n",
                "# test_ICs_sorted_data = np.swapaxes(np.concatenate([test_ICs_left_data, test_ICs_right_data, test_ICs_no_move_data]),0,1)\n",
                "# test_labels = [1] * test_ICs_left_data.shape[0] + [2] * test_ICs_right_data.shape[0] + [3]  * test_ICs_no_move_data.shape[0]"
            ]
        },
        {
            "cell_type": "code",
            "execution_count": 8,
            "metadata": {},
            "outputs": [
                {
                    "name": "stdout",
                    "output_type": "stream",
                    "text": [
                        "The average accuracy is 0.385.\n",
                        "The average F1 score is 0.377.\n"
                    ]
                },
                {
                    "data": {
                        "image/png": "[encoded data removed]",
                        "text/plain": [
                            "<Figure size 432x288 with 1 Axes>"
                        ]
                    },
                    "metadata": {
                        "needs_background": "light"
                    },
                    "output_type": "display_data"
                }
            ],
            "source": [
                "from sklearn.model_selection import cross_val_score, cross_val_predict\n",
                "from sklearn.naive_bayes import GaussianNB\n",
                "from sklearn.neighbors import KNeighborsClassifier\n",
                "from sklearn.svm import SVC\n",
                "# from sklearn.metrics import ConfusionMatrixDisplay\n",
                "from sklearn.metrics import accuracy_score, f1_score\n",
                "\n",
                "\n",
                "f1_scores = []\n",
                "accuracy_scores = []\n",
                "predictions = []\n",
                "for i in range(ELECTRODES_NUM):\n",
                "    # clf = GaussianNB()\n",
                "    # clf = SVC()\n",
                "    clf = KNeighborsClassifier(n_neighbors=10)\n",
                "    predictions.append(cross_val_predict(clf, train_data[i], train_labels))\n",
                "    f1_scores.append(cross_val_score(clf, train_data[i], train_labels, scoring='f1_macro').mean())\n",
                "    accuracy_scores.append(cross_val_score(clf, train_data[i], train_labels).mean())\n",
                "    # predictions.append(cross_val_predict(clf, complete_X[i], complete_Y))\n",
                "    # f1_scores.append(cross_val_score(clf, complete_X[i], complete_Y, scoring='f1_macro').mean())\n",
                "    # accuracy_scores.append(cross_val_score(clf, complete_X[i], complete_Y).mean())\n",
                "    # accuracy_scores.append(accuracy_score(complete_Y, predictions[-1]))\n",
                "    # f1_scores.append(f1_score(complete_Y, predictions[-1], average='macro'))    \n",
                "    \n",
                "f1_scores = np.array(f1_scores)\n",
                "accuracy_scores = np.array(accuracy_scores)\n",
                "print(f\"The average accuracy is {round(accuracy_scores.mean(),3)}.\")\n",
                "print(f\"The average F1 score is {round(f1_scores.mean(),3)}.\")\n",
                "\n",
                "bottom = 0.2\n",
                "x = np.arange(ELECTRODES_NUM)\n",
                "plt.bar(x, accuracy_scores-bottom, bottom=bottom, label=\"Accuracy\")\n",
                "plt.bar(x, f1_scores-bottom, bottom=bottom, label=\"F1 score\")\n",
                "plt.legend();\n",
                "\n",
                "# for i in range(ELECTRODES_NUM):\n",
                "#     ConfusionMatrixDisplay.from_predictions(complete_Y,predictions[i])"
            ]
        },
        {
            "cell_type": "code",
            "execution_count": 11,
            "metadata": {},
            "outputs": [
                {
                    "name": "stdout",
                    "output_type": "stream",
                    "text": [
                        "(2, 4, 10, 22, 26)\n",
                        "Applying ICA to Epochs instance\n",
                        "    Transforming to ICA space (35 components)\n",
                        "    Zeroing out 30 ICA components\n",
                        "    Projecting back using 35 PCA components\n",
                        "Applying ICA to Epochs instance\n",
                        "    Transforming to ICA space (35 components)\n",
                        "    Zeroing out 30 ICA components\n",
                        "    Projecting back using 35 PCA components\n",
                        "Overwriting existing file.\n",
                        "Overwriting existing file.\n"
                    ]
                }
            ],
            "source": [
                "acc_thresh = 0.45\n",
                "f1_thresh = acc_thresh - 0.02\n",
                "chosen_idxs_by_acc = np.where(accuracy_scores > acc_thresh)\n",
                "chosen_idxs_by_f1 = np.where(f1_scores > f1_thresh)\n",
                "chosen_idxs = tuple(np.intersect1d(chosen_idxs_by_acc, chosen_idxs_by_f1))\n",
                "print(chosen_idxs)\n",
                "\n",
                "reconstructed_from_best_train_ICs = ica.apply(base_removed_train_set.copy(), include=chosen_idxs)\n",
                "reconstructed_from_best_test_ICs = ica.apply(base_removed_test_set.copy(), include=chosen_idxs)\n",
                "mne.export.export_epochs(root_folder + '/reconstructed_from_best_train_ICs.set', reconstructed_from_best_train_ICs, overwrite=True)\n",
                "mne.export.export_epochs(root_folder + '/reconstructed_from_best_test_ICs.set', reconstructed_from_best_test_ICs, overwrite=True)"
            ]
        },
        {
            "cell_type": "code",
            "execution_count": 12,
            "metadata": {},
            "outputs": [
                {
                    "name": "stdout",
                    "output_type": "stream",
                    "text": [
                        "The average accuracy is 0.43.\n",
                        "The average F1 score is 0.421.\n"
                    ]
                },
                {
                    "data": {
                        "image/png": "[encoded data removed]",
                        "text/plain": [
                            "<Figure size 432x288 with 1 Axes>"
                        ]
                    },
                    "metadata": {
                        "needs_background": "light"
                    },
                    "output_type": "display_data"
                }
            ],
            "source": [
                "from sklearn.metrics import accuracy_score, f1_score\n",
                "\n",
                "eval_f1_scores = []\n",
                "eval_accuracy_scores = []\n",
                "for i in range(ELECTRODES_NUM):\n",
                "    # clf = SVC()\n",
                "    clf = GaussianNB()\n",
                "    clf.fit(train_data[i], train_labels)\n",
                "    prediction = clf.predict(test_data[i])\n",
                "    eval_accuracy_scores.append(accuracy_score(test_labels, prediction))\n",
                "    eval_f1_scores.append(f1_score(test_labels, prediction, average='macro'))\n",
                "    # ConfusionMatrixDisplay.from_predictions(test_labels, prediction)\n",
                "    # print(f\"{classification_report(test_labels, prediction)}\\n\")\n",
                "\n",
                "eval_f1_scores = np.array(eval_f1_scores) \n",
                "eval_accuracy_scores = np.array(eval_accuracy_scores) \n",
                "print(f\"The average accuracy is {round(eval_accuracy_scores.mean(),3)}.\")\n",
                "print(f\"The average F1 score is {round(eval_f1_scores.mean(),3)}.\")\n",
                "bottom = 0.2\n",
                "x = np.arange(ELECTRODES_NUM)\n",
                "plt.bar(x, eval_accuracy_scores-bottom, bottom=bottom, label=\"Accuracy\")\n",
                "plt.bar(x, eval_f1_scores-bottom, bottom=bottom, label=\"F1 score\")\n",
                "plt.legend();"
            ]
        },
        {
            "cell_type": "code",
            "execution_count": null,
            "metadata": {},
            "outputs": [],
            "source": [
                "time_axis = reconstructed_from_best_train_ICs.times * 1000\n",
                "channel_names = [['C3'], ['C1'], ['Cz'], ['C2'], ['C4']]\n",
                "# channel_name = ['C3']\n",
                "for channel_name in channel_names:\n",
                "    fig, ax = plt.subplots(nrows = 1, ncols = 1, constrained_layout = True)\n",
                "    fig.suptitle(f\"{channel_name[0]} - ICs {chosen_idxs}\", fontsize = 16)\n",
                "    ax.plot(time_axis, np.squeeze(reconstructed_from_best_train_ICs[\"Left\"].average().pick_channels(channel_name).get_data()), label='Left')\n",
                "    ax.plot(time_axis, np.squeeze(reconstructed_from_best_train_ICs[\"Right\"].average().pick_channels(channel_name).get_data()), label='Right')\n",
                "    ax.plot(time_axis, np.squeeze(reconstructed_from_best_train_ICs[\"NoMove\"].average().pick_channels(channel_name).get_data()), label='No Movement')\n",
                "    ax.legend()"
            ]
        }
    ],
    "metadata": {
        "kernelspec": {
            "display_name": "Python 3.9.12 ('eeg_bss')",
            "language": "python",
            "name": "python3"
        },
        "language_info": {
            "author": "Alon Ben-Arieh",
            "codemirror_mode": {
                "name": "ipython",
                "version": 3
            },
            "file_extension": ".py",
            "mimetype": "text/x-python",
            "name": "python",
            "nbconvert_exporter": "python",
            "pygments_lexer": "ipython3",
            "title": "EEG motor imagery classification using ICA",
            "version": "3.9.12 (main, Apr  4 2022, 05:22:27) [MSC v.1916 64 bit (AMD64)]"
        },
        "orig_nbformat": 4,
        "vscode": {
            "interpreter": {
                "hash": "67e3c108329f12f5017428fe2a369adc30e11445a3ac975861b336e7f7941808"
            }
        }
    },
    "nbformat": 4,
    "nbformat_minor": 2
}
