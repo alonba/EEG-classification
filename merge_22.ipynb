{
 "cells": [
  {
   "cell_type": "code",
   "execution_count": 6,
   "metadata": {},
   "outputs": [],
   "source": [
    "from datetime import date\n",
    "# import numpy as np\n",
    "import mne as mne\n",
    "# import matplotlib.pyplot as plt\n",
    "\n",
    "ELECTRODES_NUM = 35\n",
    "\n",
    "today = date.today().strftime(\"%b-%d-%Y\")\n",
    "month = date.today().strftime(\"%B\")\n",
    "# root_folder = f\"data/{month}/{today}\"\n",
    "root_folder = f\"data/{month}/{today}/raw\""
   ]
  },
  {
   "cell_type": "code",
   "execution_count": 4,
   "metadata": {},
   "outputs": [],
   "source": [
    "def fix_events_ids(epochs):\n",
    "    epochs = mne.epochs.combine_event_ids(epochs, ['1'], {'NoMove': 5}, True)\n",
    "    epochs = mne.epochs.combine_event_ids(epochs, ['2'], {'Right': 6}, True)\n",
    "    epochs = mne.epochs.combine_event_ids(epochs, ['3'], {'Left': 7}, True)\n",
    "    epochs = mne.epochs.combine_event_ids(epochs, ['NoMove'], {'NoMove': 1}, True)\n",
    "    epochs = mne.epochs.combine_event_ids(epochs, ['Right'], {'Right': 2}, True)\n",
    "    epochs = mne.epochs.combine_event_ids(epochs, ['Left'], {'Left': 3}, True)\n",
    "    return epochs"
   ]
  },
  {
   "cell_type": "code",
   "execution_count": 7,
   "metadata": {},
   "outputs": [
    {
     "name": "stdout",
     "output_type": "stream",
     "text": [
      "Not setting metadata\n",
      "2220 matching events found\n",
      "No baseline correction applied\n",
      "0 bad epochs dropped\n",
      "Not setting metadata\n",
      "8773 matching events found\n",
      "No baseline correction applied\n",
      "0 bad epochs dropped\n"
     ]
    }
   ],
   "source": [
    "\n",
    "test = []\n",
    "train = []\n",
    "\n",
    "for i in range(1,23):\n",
    "    tmp_test = mne.io.read_epochs_eeglab(f'{root_folder}/test/{i}_test.set', verbose=False)\n",
    "    tmp_test = fix_events_ids(tmp_test)\n",
    "    \n",
    "    tmp_train = mne.io.read_epochs_eeglab(f'{root_folder}/train/{i}_train.set', verbose=False)\n",
    "    tmp_train = fix_events_ids(tmp_train)\n",
    "\n",
    "    test.append(tmp_test)\n",
    "    train.append(tmp_train)\n",
    "    \n",
    "test_merged = mne.concatenate_epochs(test)\n",
    "train_merged = mne.concatenate_epochs(train)"
   ]
  },
  {
   "cell_type": "code",
   "execution_count": 8,
   "metadata": {},
   "outputs": [],
   "source": [
    "# Export the data\n",
    "mne.export.export_epochs(root_folder + '/test_merged.set', test_merged, overwrite=True)\n",
    "mne.export.export_epochs(root_folder + '/train_merged.set', train_merged, overwrite=True)"
   ]
  }
 ],
 "metadata": {
  "kernelspec": {
   "display_name": "eeg_bss",
   "language": "python",
   "name": "python3"
  },
  "language_info": {
   "codemirror_mode": {
    "name": "ipython",
    "version": 3
   },
   "file_extension": ".py",
   "mimetype": "text/x-python",
   "name": "python",
   "nbconvert_exporter": "python",
   "pygments_lexer": "ipython3",
   "version": "3.9.12"
  },
  "orig_nbformat": 4,
  "vscode": {
   "interpreter": {
    "hash": "67e3c108329f12f5017428fe2a369adc30e11445a3ac975861b336e7f7941808"
   }
  }
 },
 "nbformat": 4,
 "nbformat_minor": 2
}
