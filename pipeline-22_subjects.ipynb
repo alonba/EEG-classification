{
 "cells": [
  {
   "cell_type": "code",
   "execution_count": 1,
   "metadata": {},
   "outputs": [],
   "source": [
    "from datetime import date\n",
    "import numpy as np\n",
    "import mne as mne\n",
    "import matplotlib.pyplot as plt\n",
    "\n",
    "ELECTRODES_NUM = 35\n",
    "\n",
    "today = date.today().strftime(\"%b-%d-%Y\")\n",
    "month = date.today().strftime(\"%B\")\n",
    "# root_folder = f\"data/{month}/{today}\"\n",
    "root_folder = \"data/December/Dec-18-2022\""
   ]
  },
  {
   "cell_type": "code",
   "execution_count": 2,
   "metadata": {},
   "outputs": [
    {
     "name": "stdout",
     "output_type": "stream",
     "text": [
      "Reading C:\\Users\\alonb\\OneDrive - Technion\\טכניון\\סמסטר ט' - אביב 2022\\פרוייקט א\\מאטלב\\igor_data\\05_23_12_Itamer\\Training\\EEG SET FILTERED\\EEG_Data_01.fdt\n",
      "Used Annotations descriptions: ['S  1', 'S  2', 'S  4']\n",
      "Not setting metadata\n",
      "500 matching events found\n",
      "No baseline correction applied\n",
      "0 projection items activated\n",
      "Loading data for 500 events and 351 original time points ...\n"
     ]
    },
    {
     "name": "stderr",
     "output_type": "stream",
     "text": [
      "C:\\Users\\alonb\\AppData\\Local\\Temp\\ipykernel_6596\\2691971724.py:4: RuntimeWarning: The data contains 'boundary' events, indicating data discontinuities. Be cautious of filtering and epoching around these events.\n",
      "  raw = mne.io.read_raw_eeglab(f\"C:/Users/alonb/OneDrive - Technion/טכניון/סמסטר ט' - אביב 2022/פרוייקט א/מאטלב/igor_data/{subject}/Training/EEG SET FILTERED/EEG_Data_01.set\")\n"
     ]
    },
    {
     "name": "stdout",
     "output_type": "stream",
     "text": [
      "0 bad epochs dropped\n"
     ]
    }
   ],
   "source": [
    "subject = '05_23_12_Itamer'\n",
    "\n",
    "channels = ['F5','F3','F1','Fz','F2','F4','F6','FC5','FC3','FC1','FCz','FC2','FC4','FC6','C5','C3','C1','Cz','C2','C4','C6','CP5','CP3','CP1','CPz','CP2','CP4','CP6','P5','P3','P1','Pz','P2','P4','P6']\n",
    "raw = mne.io.read_raw_eeglab(f\"C:/Users/alonb/OneDrive - Technion/טכניון/סמסטר ט' - אביב 2022/פרוייקט א/מאטלב/igor_data/{subject}/Training/EEG SET FILTERED/EEG_Data_01.set\")\n",
    "events = mne.events_from_annotations(raw, regexp=\"[Ss]  [124]\")\n",
    "epochs = mne.Epochs(raw, events[0], tmin=0.1, tmax=0.8, baseline=None, preload=True, picks=channels)\n",
    "\n",
    "x = 2"
   ]
  },
  {
   "cell_type": "code",
   "execution_count": 3,
   "metadata": {},
   "outputs": [
    {
     "name": "stdout",
     "output_type": "stream",
     "text": [
      "Total number of Epochs: 500\n"
     ]
    }
   ],
   "source": [
    "# Create the train set and test set\n",
    "total_num_of_epochs = len(epochs)\n",
    "\n",
    "train_set_indexes = []\n",
    "test_set_indexes = []\n",
    "for i in range(total_num_of_epochs):\n",
    "    random_num = np.random.rand()\n",
    "    if (random_num < 0.8):  # 80% chance of being here\n",
    "        train_set_indexes.append(i)\n",
    "    else:\n",
    "        test_set_indexes.append(i)\n",
    "\n",
    "train_set = epochs[train_set_indexes]\n",
    "test_set = epochs[test_set_indexes]\n",
    "\n",
    "print(f\"Total number of Epochs: {total_num_of_epochs}\")"
   ]
  },
  {
   "cell_type": "code",
   "execution_count": 4,
   "metadata": {},
   "outputs": [
    {
     "name": "stdout",
     "output_type": "stream",
     "text": [
      "Fitting ICA to data using 35 channels (please be patient, this may take a while)\n"
     ]
    },
    {
     "name": "stderr",
     "output_type": "stream",
     "text": [
      "C:\\Users\\alonb\\AppData\\Local\\Temp\\ipykernel_6596\\1190229666.py:3: RuntimeWarning: The data has not been high-pass filtered. For good ICA performance, it should be high-pass filtered (e.g., with a 1.0 Hz lower bound) before fitting ICA.\n",
      "  ica.fit(train_set)\n"
     ]
    },
    {
     "name": "stdout",
     "output_type": "stream",
     "text": [
      "Selecting by number: 35 components\n",
      "Fitting ICA took 20.4s.\n"
     ]
    },
    {
     "data": {
      "text/html": [
       "<table class=\"table table-hover table-striped table-sm table-responsive small\">\n",
       "    <tr>\n",
       "        <th>Method</th>\n",
       "        <td>picard</td>\n",
       "    </tr>\n",
       "    <tr>\n",
       "        <th>Fit</th>\n",
       "        <td>102 iterations on epochs (146016 samples)</td>\n",
       "    </tr>\n",
       "    \n",
       "    <tr>\n",
       "        <th>ICA components</th>\n",
       "        <td>35</td>\n",
       "    </tr>\n",
       "    <tr>\n",
       "        <th>Explained variance</th>\n",
       "        <td>100.0&nbsp;%</td>\n",
       "    </tr>\n",
       "    <tr>\n",
       "        <th>Available PCA components</th>\n",
       "        <td>35</td>\n",
       "    </tr>\n",
       "    <tr>\n",
       "        <th>Channel types</th>\n",
       "        <td>eeg</td>\n",
       "    </tr>\n",
       "    <tr>\n",
       "        <th>ICA components marked for exclusion</th>\n",
       "        <td>&mdash;</td>\n",
       "    </tr>\n",
       "    \n",
       "</table>"
      ],
      "text/plain": [
       "<ICA | epochs decomposition, method: picard (fit in 102 iterations on 146016 samples), 35 ICA components explaining 100.0 % of variance (35 PCA components available), channel types: eeg, no sources marked for exclusion>"
      ]
     },
     "execution_count": 4,
     "metadata": {},
     "output_type": "execute_result"
    }
   ],
   "source": [
    "# Fit ICA on trimmed data\n",
    "ica = mne.preprocessing.ICA(n_components = ELECTRODES_NUM, method='picard')\n",
    "ica.fit(train_set)\n",
    "# ica.save(root_folder + '/' + subject + '/ica.fif', overwrite=True)"
   ]
  },
  {
   "cell_type": "code",
   "execution_count": 5,
   "metadata": {},
   "outputs": [],
   "source": [
    "# Export the data\n",
    "mne.export.export_epochs(root_folder + '/' + subject + '/train_set.set', train_set, overwrite=True)\n",
    "mne.export.export_epochs(root_folder + '/' + subject + '/test_set.set', test_set, overwrite=True)"
   ]
  },
  {
   "cell_type": "code",
   "execution_count": 263,
   "metadata": {},
   "outputs": [],
   "source": [
    "# # Import the data\n",
    "# train_set = mne.io.read_epochs_eeglab(root_folder + '/train_set.set')\n",
    "# test_set = mne.io.read_epochs_eeglab(root_folder + '/test_set.set')\n",
    "# ica = mne.preprocessing.read_ica(root_folder + '/ica.fif')"
   ]
  },
  {
   "cell_type": "code",
   "execution_count": 6,
   "metadata": {},
   "outputs": [],
   "source": [
    "obj_train_ICs = ica.get_sources(train_set)\n",
    "obj_test_ICs = ica.get_sources(test_set)\n",
    "\n",
    "train_data = np.swapaxes(obj_train_ICs.copy().get_data(), 0, 1)\n",
    "test_data = np.swapaxes(obj_test_ICs.copy().get_data(), 0, 1)\n",
    "\n",
    "train_labels = obj_train_ICs.events[:,2]\n",
    "test_labels = obj_test_ICs.events[:,2]"
   ]
  },
  {
   "cell_type": "code",
   "execution_count": 7,
   "metadata": {},
   "outputs": [
    {
     "name": "stdout",
     "output_type": "stream",
     "text": [
      "The average accuracy is 0.384.\n",
      "The average F1 score is 0.337.\n"
     ]
    },
    {
     "data": {
      "image/png": "[encoded data removed]",
      "text/plain": [
       "<Figure size 432x288 with 1 Axes>"
      ]
     },
     "metadata": {
      "needs_background": "light"
     },
     "output_type": "display_data"
    }
   ],
   "source": [
    "from sklearn.model_selection import cross_val_score, cross_val_predict\n",
    "from sklearn.naive_bayes import GaussianNB\n",
    "from sklearn.metrics import accuracy_score, f1_score\n",
    "\n",
    "\n",
    "f1_scores = []\n",
    "accuracy_scores = []\n",
    "predictions = []\n",
    "for i in range(ELECTRODES_NUM):\n",
    "    clf = GaussianNB()\n",
    "    predictions.append(cross_val_predict(clf, train_data[i], train_labels))\n",
    "    f1_scores.append(cross_val_score(clf, train_data[i], train_labels, scoring='f1_macro').mean())\n",
    "    accuracy_scores.append(cross_val_score(clf, train_data[i], train_labels).mean())\n",
    "    \n",
    "f1_scores = np.array(f1_scores)\n",
    "accuracy_scores = np.array(accuracy_scores)\n",
    "print(f\"The average accuracy is {round(accuracy_scores.mean(),3)}.\")\n",
    "print(f\"The average F1 score is {round(f1_scores.mean(),3)}.\")\n",
    "\n",
    "bottom = 0.2\n",
    "x = np.arange(ELECTRODES_NUM)\n",
    "plt.bar(x, accuracy_scores-bottom, bottom=bottom, label=\"Accuracy\")\n",
    "plt.bar(x, f1_scores-bottom, bottom=bottom, label=\"F1 score\")\n",
    "plt.legend();"
   ]
  },
  {
   "cell_type": "code",
   "execution_count": 10,
   "metadata": {},
   "outputs": [
    {
     "name": "stdout",
     "output_type": "stream",
     "text": [
      "(5, 11, 12, 13, 25, 29)\n",
      "Applying ICA to Epochs instance\n",
      "    Transforming to ICA space (35 components)\n",
      "    Zeroing out 29 ICA components\n",
      "    Projecting back using 35 PCA components\n",
      "Applying ICA to Epochs instance\n",
      "    Transforming to ICA space (35 components)\n",
      "    Zeroing out 29 ICA components\n",
      "    Projecting back using 35 PCA components\n",
      "Overwriting existing file.\n",
      "Overwriting existing file.\n"
     ]
    }
   ],
   "source": [
    "acc_thresh = 0.42\n",
    "f1_thresh = acc_thresh - 0.02\n",
    "chosen_idxs_by_acc = np.where(accuracy_scores > acc_thresh)\n",
    "chosen_idxs_by_f1 = np.where(f1_scores > f1_thresh)\n",
    "chosen_idxs = tuple(np.intersect1d(chosen_idxs_by_acc, chosen_idxs_by_f1))\n",
    "print(chosen_idxs)\n",
    "\n",
    "reconstructed_train = ica.apply(train_set.copy(), include=chosen_idxs)\n",
    "reconstructed_test = ica.apply(test_set.copy(), include=chosen_idxs)\n",
    "mne.export.export_epochs(root_folder + '/' + subject + '/reconstructed_train.set', reconstructed_train, overwrite=True)\n",
    "mne.export.export_epochs(root_folder + '/' + subject + '/reconstructed_test.set', reconstructed_test, overwrite=True)"
   ]
  },
  {
   "cell_type": "code",
   "execution_count": 11,
   "metadata": {},
   "outputs": [
    {
     "name": "stdout",
     "output_type": "stream",
     "text": [
      "The average accuracy is 0.365.\n",
      "The average F1 score is 0.319.\n"
     ]
    },
    {
     "data": {
      "image/png": "[encoded data removed]",
      "text/plain": [
       "<Figure size 432x288 with 1 Axes>"
      ]
     },
     "metadata": {
      "needs_background": "light"
     },
     "output_type": "display_data"
    }
   ],
   "source": [
    "from sklearn.metrics import accuracy_score, f1_score\n",
    "\n",
    "eval_f1_scores = []\n",
    "eval_accuracy_scores = []\n",
    "for i in range(ELECTRODES_NUM):\n",
    "    # clf = SVC()\n",
    "    clf = GaussianNB()\n",
    "    clf.fit(train_data[i], train_labels)\n",
    "    prediction = clf.predict(test_data[i])\n",
    "    eval_accuracy_scores.append(accuracy_score(test_labels, prediction))\n",
    "    eval_f1_scores.append(f1_score(test_labels, prediction, average='macro'))\n",
    "    # ConfusionMatrixDisplay.from_predictions(test_labels, prediction)\n",
    "    # print(f\"{classification_report(test_labels, prediction)}\\n\")\n",
    "\n",
    "eval_f1_scores = np.array(eval_f1_scores) \n",
    "eval_accuracy_scores = np.array(eval_accuracy_scores) \n",
    "print(f\"The average accuracy is {round(eval_accuracy_scores.mean(),3)}.\")\n",
    "print(f\"The average F1 score is {round(eval_f1_scores.mean(),3)}.\")\n",
    "bottom = 0.2\n",
    "x = np.arange(ELECTRODES_NUM)\n",
    "plt.bar(x, eval_accuracy_scores-bottom, bottom=bottom, label=\"Accuracy\")\n",
    "plt.bar(x, eval_f1_scores-bottom, bottom=bottom, label=\"F1 score\")\n",
    "plt.legend();"
   ]
  },
  {
   "cell_type": "code",
   "execution_count": 12,
   "metadata": {},
   "outputs": [
    {
     "ename": "KeyError",
     "evalue": "'Event name \"Left\" could not be found. The following events are present in the data: 1, 2, 3'",
     "output_type": "error",
     "traceback": [
      "\u001b[1;31m---------------------------------------------------------------------------\u001b[0m",
      "\u001b[1;31mKeyError\u001b[0m                                  Traceback (most recent call last)",
      "\u001b[1;32mc:\\Users\\alonb\\OneDrive - Technion\\טכניון\\סמסטר ט' - אביב 2022\\פרוייקט א\\eeg-bss\\pipeline-22_subjects.ipynb Cell 11\u001b[0m in \u001b[0;36m<cell line: 4>\u001b[1;34m()\u001b[0m\n\u001b[0;32m      <a href='vscode-notebook-cell:/c%3A/Users/alonb/OneDrive%20-%20Technion/%D7%98%D7%9B%D7%A0%D7%99%D7%95%D7%9F/%D7%A1%D7%9E%D7%A1%D7%98%D7%A8%20%D7%98%27%20-%20%D7%90%D7%91%D7%99%D7%91%202022/%D7%A4%D7%A8%D7%95%D7%99%D7%99%D7%A7%D7%98%20%D7%90/eeg-bss/pipeline-22_subjects.ipynb#X13sZmlsZQ%3D%3D?line=4'>5</a>\u001b[0m fig, ax \u001b[39m=\u001b[39m plt\u001b[39m.\u001b[39msubplots(nrows \u001b[39m=\u001b[39m \u001b[39m1\u001b[39m, ncols \u001b[39m=\u001b[39m \u001b[39m1\u001b[39m, constrained_layout \u001b[39m=\u001b[39m \u001b[39mTrue\u001b[39;00m)\n\u001b[0;32m      <a href='vscode-notebook-cell:/c%3A/Users/alonb/OneDrive%20-%20Technion/%D7%98%D7%9B%D7%A0%D7%99%D7%95%D7%9F/%D7%A1%D7%9E%D7%A1%D7%98%D7%A8%20%D7%98%27%20-%20%D7%90%D7%91%D7%99%D7%91%202022/%D7%A4%D7%A8%D7%95%D7%99%D7%99%D7%A7%D7%98%20%D7%90/eeg-bss/pipeline-22_subjects.ipynb#X13sZmlsZQ%3D%3D?line=5'>6</a>\u001b[0m fig\u001b[39m.\u001b[39msuptitle(\u001b[39mf\u001b[39m\u001b[39m\"\u001b[39m\u001b[39m{\u001b[39;00mchannel_name[\u001b[39m0\u001b[39m]\u001b[39m}\u001b[39;00m\u001b[39m - ICs \u001b[39m\u001b[39m{\u001b[39;00mchosen_idxs\u001b[39m}\u001b[39;00m\u001b[39m\"\u001b[39m, fontsize \u001b[39m=\u001b[39m \u001b[39m16\u001b[39m)\n\u001b[1;32m----> <a href='vscode-notebook-cell:/c%3A/Users/alonb/OneDrive%20-%20Technion/%D7%98%D7%9B%D7%A0%D7%99%D7%95%D7%9F/%D7%A1%D7%9E%D7%A1%D7%98%D7%A8%20%D7%98%27%20-%20%D7%90%D7%91%D7%99%D7%91%202022/%D7%A4%D7%A8%D7%95%D7%99%D7%99%D7%A7%D7%98%20%D7%90/eeg-bss/pipeline-22_subjects.ipynb#X13sZmlsZQ%3D%3D?line=6'>7</a>\u001b[0m ax\u001b[39m.\u001b[39mplot(time_axis, np\u001b[39m.\u001b[39msqueeze(reconstructed_train[\u001b[39m\"\u001b[39;49m\u001b[39mLeft\u001b[39;49m\u001b[39m\"\u001b[39;49m]\u001b[39m.\u001b[39maverage()\u001b[39m.\u001b[39mpick_channels(channel_name)\u001b[39m.\u001b[39mget_data()), label\u001b[39m=\u001b[39m\u001b[39m'\u001b[39m\u001b[39mLeft\u001b[39m\u001b[39m'\u001b[39m)\n\u001b[0;32m      <a href='vscode-notebook-cell:/c%3A/Users/alonb/OneDrive%20-%20Technion/%D7%98%D7%9B%D7%A0%D7%99%D7%95%D7%9F/%D7%A1%D7%9E%D7%A1%D7%98%D7%A8%20%D7%98%27%20-%20%D7%90%D7%91%D7%99%D7%91%202022/%D7%A4%D7%A8%D7%95%D7%99%D7%99%D7%A7%D7%98%20%D7%90/eeg-bss/pipeline-22_subjects.ipynb#X13sZmlsZQ%3D%3D?line=7'>8</a>\u001b[0m ax\u001b[39m.\u001b[39mplot(time_axis, np\u001b[39m.\u001b[39msqueeze(reconstructed_train[\u001b[39m\"\u001b[39m\u001b[39mRight\u001b[39m\u001b[39m\"\u001b[39m]\u001b[39m.\u001b[39maverage()\u001b[39m.\u001b[39mpick_channels(channel_name)\u001b[39m.\u001b[39mget_data()), label\u001b[39m=\u001b[39m\u001b[39m'\u001b[39m\u001b[39mRight\u001b[39m\u001b[39m'\u001b[39m)\n\u001b[0;32m      <a href='vscode-notebook-cell:/c%3A/Users/alonb/OneDrive%20-%20Technion/%D7%98%D7%9B%D7%A0%D7%99%D7%95%D7%9F/%D7%A1%D7%9E%D7%A1%D7%98%D7%A8%20%D7%98%27%20-%20%D7%90%D7%91%D7%99%D7%91%202022/%D7%A4%D7%A8%D7%95%D7%99%D7%99%D7%A7%D7%98%20%D7%90/eeg-bss/pipeline-22_subjects.ipynb#X13sZmlsZQ%3D%3D?line=8'>9</a>\u001b[0m ax\u001b[39m.\u001b[39mplot(time_axis, np\u001b[39m.\u001b[39msqueeze(reconstructed_train[\u001b[39m\"\u001b[39m\u001b[39mNoMove\u001b[39m\u001b[39m\"\u001b[39m]\u001b[39m.\u001b[39maverage()\u001b[39m.\u001b[39mpick_channels(channel_name)\u001b[39m.\u001b[39mget_data()), label\u001b[39m=\u001b[39m\u001b[39m'\u001b[39m\u001b[39mNo Movement\u001b[39m\u001b[39m'\u001b[39m)\n",
      "File \u001b[1;32mc:\\Users\\alonb\\anaconda3\\envs\\eeg_bss\\lib\\site-packages\\mne\\utils\\mixin.py:144\u001b[0m, in \u001b[0;36mGetEpochsMixin.__getitem__\u001b[1;34m(self, item)\u001b[0m\n\u001b[0;32m     78\u001b[0m \u001b[39mdef\u001b[39;00m \u001b[39m__getitem__\u001b[39m(\u001b[39mself\u001b[39m, item):\n\u001b[0;32m     79\u001b[0m     \u001b[39m\"\"\"Return an Epochs object with a copied subset of epochs.\u001b[39;00m\n\u001b[0;32m     80\u001b[0m \n\u001b[0;32m     81\u001b[0m \u001b[39m    Parameters\u001b[39;00m\n\u001b[1;32m   (...)\u001b[0m\n\u001b[0;32m    142\u001b[0m \u001b[39m       .. versionadded:: 0.16\u001b[39;00m\n\u001b[0;32m    143\u001b[0m \u001b[39m    \"\"\"\u001b[39;00m\n\u001b[1;32m--> 144\u001b[0m     \u001b[39mreturn\u001b[39;00m \u001b[39mself\u001b[39;49m\u001b[39m.\u001b[39;49m_getitem(item)\n",
      "File \u001b[1;32mc:\\Users\\alonb\\anaconda3\\envs\\eeg_bss\\lib\\site-packages\\mne\\utils\\mixin.py:195\u001b[0m, in \u001b[0;36mGetEpochsMixin._getitem\u001b[1;34m(***failed resolving arguments***)\u001b[0m\n\u001b[0;32m    192\u001b[0m \u001b[39mself\u001b[39m\u001b[39m.\u001b[39m_data \u001b[39m=\u001b[39m inst\u001b[39m.\u001b[39m_data \u001b[39m=\u001b[39m data\n\u001b[0;32m    193\u001b[0m \u001b[39mdel\u001b[39;00m \u001b[39mself\u001b[39m\n\u001b[1;32m--> 195\u001b[0m select \u001b[39m=\u001b[39m inst\u001b[39m.\u001b[39;49m_item_to_select(item)\n\u001b[0;32m    196\u001b[0m has_selection \u001b[39m=\u001b[39m \u001b[39mhasattr\u001b[39m(inst, \u001b[39m'\u001b[39m\u001b[39mselection\u001b[39m\u001b[39m'\u001b[39m)\n\u001b[0;32m    197\u001b[0m \u001b[39mif\u001b[39;00m has_selection:\n",
      "File \u001b[1;32mc:\\Users\\alonb\\anaconda3\\envs\\eeg_bss\\lib\\site-packages\\mne\\utils\\mixin.py:153\u001b[0m, in \u001b[0;36mGetEpochsMixin._item_to_select\u001b[1;34m(self, item)\u001b[0m\n\u001b[0;32m    150\u001b[0m \u001b[39m# Convert string to indices\u001b[39;00m\n\u001b[0;32m    151\u001b[0m \u001b[39mif\u001b[39;00m \u001b[39misinstance\u001b[39m(item, (\u001b[39mlist\u001b[39m, \u001b[39mtuple\u001b[39m)) \u001b[39mand\u001b[39;00m \u001b[39mlen\u001b[39m(item) \u001b[39m>\u001b[39m \u001b[39m0\u001b[39m \u001b[39mand\u001b[39;00m \\\n\u001b[0;32m    152\u001b[0m         \u001b[39misinstance\u001b[39m(item[\u001b[39m0\u001b[39m], \u001b[39mstr\u001b[39m):\n\u001b[1;32m--> 153\u001b[0m     select \u001b[39m=\u001b[39m \u001b[39mself\u001b[39;49m\u001b[39m.\u001b[39;49m_keys_to_idx(item)\n\u001b[0;32m    154\u001b[0m \u001b[39melif\u001b[39;00m \u001b[39misinstance\u001b[39m(item, \u001b[39mslice\u001b[39m):\n\u001b[0;32m    155\u001b[0m     select \u001b[39m=\u001b[39m item\n",
      "File \u001b[1;32mc:\\Users\\alonb\\anaconda3\\envs\\eeg_bss\\lib\\site-packages\\mne\\utils\\mixin.py:242\u001b[0m, in \u001b[0;36mGetEpochsMixin._keys_to_idx\u001b[1;34m(self, keys)\u001b[0m\n\u001b[0;32m    237\u001b[0m keys \u001b[39m=\u001b[39m keys \u001b[39mif\u001b[39;00m \u001b[39misinstance\u001b[39m(keys, (\u001b[39mlist\u001b[39m, \u001b[39mtuple\u001b[39m)) \u001b[39melse\u001b[39;00m [keys]\n\u001b[0;32m    238\u001b[0m \u001b[39mtry\u001b[39;00m:\n\u001b[0;32m    239\u001b[0m     \u001b[39m# Assume it's a condition name\u001b[39;00m\n\u001b[0;32m    240\u001b[0m     \u001b[39mreturn\u001b[39;00m np\u001b[39m.\u001b[39mwhere(np\u001b[39m.\u001b[39many(\n\u001b[0;32m    241\u001b[0m         np\u001b[39m.\u001b[39marray([\u001b[39mself\u001b[39m\u001b[39m.\u001b[39mevents[:, \u001b[39m2\u001b[39m] \u001b[39m==\u001b[39m \u001b[39mself\u001b[39m\u001b[39m.\u001b[39mevent_id[k]\n\u001b[1;32m--> 242\u001b[0m                   \u001b[39mfor\u001b[39;00m k \u001b[39min\u001b[39;00m match_event_names(\u001b[39mself\u001b[39;49m\u001b[39m.\u001b[39;49mevent_id, keys)]),\n\u001b[0;32m    243\u001b[0m         axis\u001b[39m=\u001b[39m\u001b[39m0\u001b[39m))[\u001b[39m0\u001b[39m]\n\u001b[0;32m    244\u001b[0m \u001b[39mexcept\u001b[39;00m \u001b[39mKeyError\u001b[39;00m \u001b[39mas\u001b[39;00m err:\n\u001b[0;32m    245\u001b[0m     \u001b[39m# Could we in principle use metadata with these Epochs and keys?\u001b[39;00m\n\u001b[0;32m    246\u001b[0m     \u001b[39mif\u001b[39;00m (\u001b[39mlen\u001b[39m(keys) \u001b[39m!=\u001b[39m \u001b[39m1\u001b[39m \u001b[39mor\u001b[39;00m \u001b[39mself\u001b[39m\u001b[39m.\u001b[39mmetadata \u001b[39mis\u001b[39;00m \u001b[39mNone\u001b[39;00m):\n\u001b[0;32m    247\u001b[0m         \u001b[39m# If not, raise original error\u001b[39;00m\n",
      "File \u001b[1;32mc:\\Users\\alonb\\anaconda3\\envs\\eeg_bss\\lib\\site-packages\\mne\\event.py:1502\u001b[0m, in \u001b[0;36mmatch_event_names\u001b[1;34m(event_names, keys, on_missing)\u001b[0m\n\u001b[0;32m   1496\u001b[0m     matches\u001b[39m.\u001b[39mextend(\n\u001b[0;32m   1497\u001b[0m         name \u001b[39mfor\u001b[39;00m name \u001b[39min\u001b[39;00m event_names\n\u001b[0;32m   1498\u001b[0m         \u001b[39mif\u001b[39;00m \u001b[39mset\u001b[39m(key\u001b[39m.\u001b[39msplit(\u001b[39m'\u001b[39m\u001b[39m/\u001b[39m\u001b[39m'\u001b[39m))\u001b[39m.\u001b[39missubset(name\u001b[39m.\u001b[39msplit(\u001b[39m'\u001b[39m\u001b[39m/\u001b[39m\u001b[39m'\u001b[39m))\n\u001b[0;32m   1499\u001b[0m     )\n\u001b[0;32m   1501\u001b[0m \u001b[39mif\u001b[39;00m \u001b[39mnot\u001b[39;00m matches:\n\u001b[1;32m-> 1502\u001b[0m     _on_missing(\n\u001b[0;32m   1503\u001b[0m         on_missing\u001b[39m=\u001b[39;49mon_missing,\n\u001b[0;32m   1504\u001b[0m         msg\u001b[39m=\u001b[39;49m\u001b[39mf\u001b[39;49m\u001b[39m'\u001b[39;49m\u001b[39mEvent name \u001b[39;49m\u001b[39m\"\u001b[39;49m\u001b[39m{\u001b[39;49;00mkey\u001b[39m}\u001b[39;49;00m\u001b[39m\"\u001b[39;49m\u001b[39m could not be found. The following events \u001b[39;49m\u001b[39m'\u001b[39;49m\n\u001b[0;32m   1505\u001b[0m             \u001b[39mf\u001b[39;49m\u001b[39m'\u001b[39;49m\u001b[39mare present in the data: \u001b[39;49m\u001b[39m{\u001b[39;49;00m\u001b[39m\"\u001b[39;49m\u001b[39m, \u001b[39;49m\u001b[39m\"\u001b[39;49m\u001b[39m.\u001b[39;49mjoin(event_names)\u001b[39m}\u001b[39;49;00m\u001b[39m'\u001b[39;49m,\n\u001b[0;32m   1506\u001b[0m         error_klass\u001b[39m=\u001b[39;49m\u001b[39mKeyError\u001b[39;49;00m\n\u001b[0;32m   1507\u001b[0m     )\n\u001b[0;32m   1509\u001b[0m matches \u001b[39m=\u001b[39m \u001b[39msorted\u001b[39m(\u001b[39mset\u001b[39m(matches))  \u001b[39m# deduplicate if necessary\u001b[39;00m\n\u001b[0;32m   1510\u001b[0m \u001b[39mreturn\u001b[39;00m matches\n",
      "File \u001b[1;32mc:\\Users\\alonb\\anaconda3\\envs\\eeg_bss\\lib\\site-packages\\mne\\utils\\check.py:872\u001b[0m, in \u001b[0;36m_on_missing\u001b[1;34m(on_missing, msg, name, error_klass)\u001b[0m\n\u001b[0;32m    870\u001b[0m on_missing \u001b[39m=\u001b[39m \u001b[39m'\u001b[39m\u001b[39mwarn\u001b[39m\u001b[39m'\u001b[39m \u001b[39mif\u001b[39;00m on_missing \u001b[39m==\u001b[39m \u001b[39m'\u001b[39m\u001b[39mwarning\u001b[39m\u001b[39m'\u001b[39m \u001b[39melse\u001b[39;00m on_missing\n\u001b[0;32m    871\u001b[0m \u001b[39mif\u001b[39;00m on_missing \u001b[39m==\u001b[39m \u001b[39m'\u001b[39m\u001b[39mraise\u001b[39m\u001b[39m'\u001b[39m:\n\u001b[1;32m--> 872\u001b[0m     \u001b[39mraise\u001b[39;00m error_klass(msg)\n\u001b[0;32m    873\u001b[0m \u001b[39melif\u001b[39;00m on_missing \u001b[39m==\u001b[39m \u001b[39m'\u001b[39m\u001b[39mwarn\u001b[39m\u001b[39m'\u001b[39m:\n\u001b[0;32m    874\u001b[0m     warn(msg)\n",
      "\u001b[1;31mKeyError\u001b[0m: 'Event name \"Left\" could not be found. The following events are present in the data: 1, 2, 3'"
     ]
    },
    {
     "data": {
      "image/png": "[encoded data removed]",
      "text/plain": [
       "<Figure size 432x288 with 1 Axes>"
      ]
     },
     "metadata": {
      "needs_background": "light"
     },
     "output_type": "display_data"
    }
   ],
   "source": [
    "time_axis = reconstructed_train.times * 1000\n",
    "channel_names = [['C3'], ['C1'], ['Cz'], ['C2'], ['C4']]\n",
    "# channel_name = ['C3']\n",
    "for channel_name in channel_names:\n",
    "    fig, ax = plt.subplots(nrows = 1, ncols = 1, constrained_layout = True)\n",
    "    fig.suptitle(f\"{channel_name[0]} - ICs {chosen_idxs}\", fontsize = 16)\n",
    "    ax.plot(time_axis, np.squeeze(reconstructed_train[\"Left\"].average().pick_channels(channel_name).get_data()), label='Left')\n",
    "    ax.plot(time_axis, np.squeeze(reconstructed_train[\"Right\"].average().pick_channels(channel_name).get_data()), label='Right')\n",
    "    ax.plot(time_axis, np.squeeze(reconstructed_train[\"NoMove\"].average().pick_channels(channel_name).get_data()), label='No Movement')\n",
    "    ax.legend()"
   ]
  }
 ],
 "metadata": {
  "kernelspec": {
   "display_name": "Python 3.9.12 ('eeg_bss')",
   "language": "python",
   "name": "python3"
  },
  "language_info": {
   "codemirror_mode": {
    "name": "ipython",
    "version": 3
   },
   "file_extension": ".py",
   "mimetype": "text/x-python",
   "name": "python",
   "nbconvert_exporter": "python",
   "pygments_lexer": "ipython3",
   "version": "3.9.12 (main, Apr  4 2022, 05:22:27) [MSC v.1916 64 bit (AMD64)]"
  },
  "orig_nbformat": 4,
  "vscode": {
   "interpreter": {
    "hash": "67e3c108329f12f5017428fe2a369adc30e11445a3ac975861b336e7f7941808"
   }
  }
 },
 "nbformat": 4,
 "nbformat_minor": 2
}
