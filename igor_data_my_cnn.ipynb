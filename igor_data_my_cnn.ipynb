{
 "cells": [
  {
   "cell_type": "code",
   "execution_count": 1,
   "metadata": {},
   "outputs": [],
   "source": [
    "import tensorflow as tf\n",
    "from tensorflow import keras\n",
    "from tensorflow.keras import layers\n",
    "from datetime import date\n",
    "import numpy as np\n",
    "import mne as mne\n",
    "import matplotlib.pyplot as plt\n",
    "from sklearn.model_selection import train_test_split\n",
    "import pandas as pd\n",
    "from sklearn.metrics import confusion_matrix\n",
    "import os\n",
    "import scipy.io as sio\n",
    "from sklearn.utils import shuffle\n",
    "\n",
    "tf.config.run_functions_eagerly(True)\n",
    "\n",
    "ELECTRODES_NUM = 35\n",
    "\n",
    "today = date.today().strftime(\"%b-%d-%Y\")\n",
    "root_folder = f\"data/{today}\""
   ]
  },
  {
   "cell_type": "code",
   "execution_count": 2,
   "metadata": {},
   "outputs": [],
   "source": [
    "def product(*args, repeat=1):\n",
    "    # product('ABCD', 'xy') --> Ax Ay Bx By Cx Cy Dx Dy\n",
    "    # product(range(2), repeat=3) --> 000 001 010 011 100 101 110 111\n",
    "    pools = [tuple(pool) for pool in args] * repeat\n",
    "    result = [[]]\n",
    "    for pool in pools:\n",
    "        result = [x+[y] for x in result for y in pool]\n",
    "    for prod in result:\n",
    "        yield tuple(prod)\n",
    "\n",
    "def plot_confusion_matrix(cm, class_names,flag):\n",
    "    \"\"\"\n",
    "    Returns a matplotlib figure containing the plotted confusion matrix.\n",
    "    \n",
    "    Args:\n",
    "       cm (array, shape = [n, n]): a confusion matrix of integer classes\n",
    "       class_names (array, shape = [n]): String names of the integer classes\n",
    "    \"\"\"\n",
    "    \n",
    "    figure = plt.figure(figsize=(8, 8))\n",
    "    plt.imshow(cm, interpolation='nearest', cmap=plt.cm.Blues)\n",
    "    plt.title(\"Confusion matrix\")\n",
    "    plt.colorbar()\n",
    "    tick_marks = np.arange(len(class_names))\n",
    "    plt.xticks(tick_marks, class_names, rotation=45)\n",
    "    plt.yticks(tick_marks, class_names)\n",
    "    \n",
    "    # Normalize the confusion matrix.\n",
    "    cm_norm = np.around(cm.astype('float') / cm.sum(axis=1)[:, np.newaxis], decimals=2)\n",
    "    \n",
    "    # Use white text if squares are dark; otherwise black.\n",
    "    threshold = cm_norm.max() / 2.\n",
    "    \n",
    "    for i, j in product(range(cm_norm.shape[0]), range(cm_norm.shape[1])):\n",
    "        color = \"white\" if cm_norm[i, j] > 0.34 else \"black\"\n",
    "        plt.text(j, i, '({:.0f}%)\\n {}'.format(cm_norm[i, j]*100, cm[i,j]), horizontalalignment=\"center\", color=color, linespacing=3, fontsize='large')\n",
    "\n",
    "    plt.tight_layout()\n",
    "    plt.ylabel('True label')\n",
    "    plt.xlabel('Predicted label')\n",
    "    return figure\n",
    "\n",
    "def one_hot_encoder(labels, classes_num = 3):\n",
    "    epochs_num = labels.shape[0]\n",
    "    labels_onehot = np.zeros((epochs_num, classes_num))\n",
    "    for i in range(epochs_num):\n",
    "        labels_onehot[i, int(labels[i]-1)] = 1\n",
    "    return labels_onehot\n",
    "\n",
    "def print_confusion_matrix(model, data, true_labels_onehot):\n",
    "    ###### Evaluation\n",
    "    prediction = model.predict(data)\n",
    "    y_hat = np.zeros(np.shape(true_labels_onehot))\n",
    "    for i in range(np.shape(y_hat)[0]):\n",
    "        y_hat[i,np.argmax(prediction[i,:])] = 1\n",
    "    delta = np.sum(abs(y_hat - true_labels_onehot), axis=1)\n",
    "    accuracy = len(delta[delta==0])/len(delta)*100\n",
    "\n",
    "    # Calculating Confusion Matrix\n",
    "    y_pred = np.argmax(y_hat, axis=1)\n",
    "    y_true = np.argmax(true_labels_onehot, axis=1)\n",
    "    cm = confusion_matrix(y_true, y_pred)\n",
    "    \n",
    "    class_names=[\"Right\",\"Left\",\"No Movement\"]\n",
    "    figure = plot_confusion_matrix(cm, class_names=class_names ,flag=1)"
   ]
  },
  {
   "cell_type": "code",
   "execution_count": 3,
   "metadata": {},
   "outputs": [],
   "source": [
    "path = 'data/igor/'\n",
    "data_right = sio.loadmat(os.path.join(path,'0.mat'))[\"EEG\"][0,0][\"data\"]\n",
    "data_left = sio.loadmat(os.path.join(path,'1.mat'))[\"EEG\"][0,0][\"data\"]\n",
    "data_nomove = sio.loadmat(os.path.join(path,'2.mat'))[\"EEG\"][0,0][\"data\"]\n",
    "\n",
    "elec_names = ['FP1','Fz','F3','F7','FT9','FC5','FC1','C3','T7','TP9','CP5','CP1','Pz','P3','P7','O1','Oz','O2','P4','P8','TP10','CP6','CP2','Cz','C4','T8','FT10','FC6','FC2','F4','F8','FP2','AF3','AFz','F1','F5','FT7','FC3','FCz','C1','C5','TP7','CP3','P1','P5','PO7','PO3','POz','PO4','PO8','P6','P2','CPz','CP4','TP8','C6','C2','FC4','FT8','F6','F2','AF4']\n",
    "\n",
    "data_orig = np.concatenate([data_right, data_left, data_nomove], axis=2)\n",
    "data_org = np.moveaxis(data_orig, 2, 0)\n",
    "labels_org = np.concatenate([np.zeros((data_right.shape[2])), np.ones((data_left.shape[2])), 2*np.ones((data_nomove.shape[2]))])\n",
    "\n",
    "data, labels = shuffle(data_org, labels_org, random_state=42)\n",
    "\n",
    "elec_order = ['F5','F3','F1','Fz','F2','F4','F6','FC5','FC3','FC1','FCz','FC2','FC4','FC6','C5','C3','C1','Cz','C2','C4','C6','CP5','CP3','CP1','CPz','CP2','CP4','CP6','P5','P3','P1','Pz','P2','P4','P6']\n",
    "elec_idx = [elec_names.index(x) for x in elec_order]\n",
    "\n",
    "data_relevant = data[:,elec_idx,150:] \n",
    "\n",
    "n_trials = np.shape(data_relevant)[0]\n",
    "n_samples = np.shape(data_relevant)[2]\n",
    "\n",
    "data_3d = np.reshape(data_relevant, (n_trials,5,7,n_samples))\n",
    "\n",
    "labels_onehot = np.zeros((n_trials, 3))\n",
    "for i in range(n_trials):\n",
    "    labels_onehot[i, int(labels[i])]=1\n",
    "\n",
    "X_train_val, X_test, y_train_val, y_test = train_test_split(data_3d, labels_onehot, test_size=0.1, random_state=42, stratify=labels_onehot)\n",
    "\n",
    "X_train_val = np.expand_dims(X_train_val,axis=4)\n",
    "X_test = np.expand_dims(X_test,axis=4)\n",
    "\n",
    "X_train, X_val, y_train, y_val = train_test_split(X_train_val, y_train_val, test_size=0.1, random_state=42, stratify=y_train_val)"
   ]
  },
  {
   "cell_type": "code",
   "execution_count": 4,
   "metadata": {},
   "outputs": [
    {
     "name": "stdout",
     "output_type": "stream",
     "text": [
      "(324, 5, 7, 350, 1)\n",
      "(36, 5, 7, 350, 1)\n"
     ]
    }
   ],
   "source": [
    "X_big, X_small, y_big, y_small = train_test_split(X_train, y_train, test_size=0.045, random_state=42, stratify=y_train)\n",
    "X_small_train, X_small_val, y_small_train, y_small_val = train_test_split(X_small, y_small, test_size=0.1, random_state=42, stratify=y_small)\n",
    "print(X_small_train.shape)\n",
    "print(X_small_val.shape)"
   ]
  },
  {
   "cell_type": "code",
   "execution_count": 5,
   "metadata": {},
   "outputs": [
    {
     "name": "stdout",
     "output_type": "stream",
     "text": [
      "Model: \"sequential\"\n",
      "_________________________________________________________________\n",
      " Layer (type)                Output Shape              Param #   \n",
      "=================================================================\n",
      " conv3d (Conv3D)             (None, 3, 5, 151, 20)     36020     \n",
      "                                                                 \n",
      " conv3d_1 (Conv3D)           (None, 2, 4, 132, 10)     16010     \n",
      "                                                                 \n",
      " max_pooling3d (MaxPooling3D  (None, 1, 3, 2, 10)      0         \n",
      " )                                                               \n",
      "                                                                 \n",
      " batch_normalization (BatchN  (None, 1, 3, 2, 10)      40        \n",
      " ormalization)                                                   \n",
      "                                                                 \n",
      " flatten (Flatten)           (None, 60)                0         \n",
      "                                                                 \n",
      " dense (Dense)               (None, 3)                 183       \n",
      "                                                                 \n",
      "=================================================================\n",
      "Total params: 52,253\n",
      "Trainable params: 52,233\n",
      "Non-trainable params: 20\n",
      "_________________________________________________________________\n"
     ]
    }
   ],
   "source": [
    "model = keras.Sequential([\n",
    "    layers.Conv3D(20, (3,3,200), padding='valid', input_shape=(5, 7, n_samples, 1), activation=\"relu\"),\n",
    "    layers.Conv3D(10, (2,2,20), padding='valid', activation=\"relu\"),\n",
    "    layers.MaxPooling3D((2, 2, 50), strides=(1,1,50)),\n",
    "    layers.BatchNormalization(),\n",
    "    layers.Flatten(),\n",
    "    layers.Dense(3, activation=\"softmax\")\n",
    "])\n",
    "\n",
    "model.compile(optimizer='adam',\n",
    "              loss=keras.losses.CategoricalCrossentropy(),\n",
    "              metrics=['accuracy'])\n",
    "\n",
    "model.summary()"
   ]
  },
  {
   "cell_type": "code",
   "execution_count": 7,
   "metadata": {},
   "outputs": [
    {
     "name": "stdout",
     "output_type": "stream",
     "text": [
      "Epoch 1/10\n",
      "11/11 [==============================] - 6s 555ms/step - loss: 0.5335 - accuracy: 0.8426 - val_loss: 1.4986 - val_accuracy: 0.4722\n",
      "Epoch 2/10\n",
      "11/11 [==============================] - 6s 545ms/step - loss: 0.4842 - accuracy: 0.8333 - val_loss: 1.3126 - val_accuracy: 0.4444\n",
      "Epoch 3/10\n",
      "11/11 [==============================] - 6s 561ms/step - loss: 0.4450 - accuracy: 0.8519 - val_loss: 1.3058 - val_accuracy: 0.5278\n",
      "Epoch 4/10\n",
      "11/11 [==============================] - 6s 548ms/step - loss: 0.4054 - accuracy: 0.8858 - val_loss: 1.3719 - val_accuracy: 0.4722\n",
      "Epoch 5/10\n",
      "11/11 [==============================] - 6s 553ms/step - loss: 0.4186 - accuracy: 0.8580 - val_loss: 1.3000 - val_accuracy: 0.5000\n",
      "Epoch 6/10\n",
      "11/11 [==============================] - 6s 551ms/step - loss: 0.4484 - accuracy: 0.8488 - val_loss: 1.4996 - val_accuracy: 0.4444\n",
      "Epoch 7/10\n",
      "11/11 [==============================] - 6s 569ms/step - loss: 0.4240 - accuracy: 0.8519 - val_loss: 1.6699 - val_accuracy: 0.3889\n",
      "Epoch 8/10\n",
      "11/11 [==============================] - 6s 550ms/step - loss: 0.3728 - accuracy: 0.8765 - val_loss: 1.6519 - val_accuracy: 0.3611\n",
      "Epoch 9/10\n",
      "11/11 [==============================] - 6s 561ms/step - loss: 0.3110 - accuracy: 0.9321 - val_loss: 1.3650 - val_accuracy: 0.3611\n",
      "Epoch 10/10\n",
      "11/11 [==============================] - 6s 570ms/step - loss: 0.3407 - accuracy: 0.9228 - val_loss: 1.5085 - val_accuracy: 0.4722\n"
     ]
    }
   ],
   "source": [
    "# history = model.fit(X_train, y_train, epochs=15, validation_data=(X_val, y_val))\n",
    "history = model.fit(X_small_train, y_small_train, epochs=10, validation_data=(X_small_val, y_small_val))"
   ]
  },
  {
   "cell_type": "code",
   "execution_count": null,
   "metadata": {},
   "outputs": [],
   "source": [
    "# Plot Accuracy graph (train set and val set)\n",
    "metrics_df = pd.DataFrame(history.history)\n",
    "ax = metrics_df[[\"accuracy\", \"val_accuracy\"]].plot(title=\"Accuracy\");\n",
    "ax.set_xlabel(\"Epochs\")\n",
    "ax.set_ylabel(\"Accuracy\")\n",
    "ax.set_title(\"Accuracy\")\n",
    "ax.legend([\"Training accuracy\", \"Validation accuracy\"]);\n",
    "\n",
    "# Plot Loss graph (train set and val set)\n",
    "axe = metrics_df[[\"loss\", \"val_loss\"]].plot(title=\"Loss\");\n",
    "axe.set_xlabel(\"Epochs\")\n",
    "axe.set_ylabel(\"Loss Value\")\n",
    "axe.set_title(\"Loss\")\n",
    "axe.legend([\"Training loss\", \"Validation loss\"]);\n",
    "\n",
    "# print_confusion_matrix(model, X_small_val , y_small_val)\n",
    "print_confusion_matrix(model, X_small_train, y_small_train)\n",
    "# print_confusion_matrix(model, X_big, y_big)"
   ]
  },
  {
   "cell_type": "code",
   "execution_count": null,
   "metadata": {},
   "outputs": [],
   "source": [
    "print_confusion_matrix(model, X_big, y_big)"
   ]
  }
 ],
 "metadata": {
  "kernelspec": {
   "display_name": "Python 3.9.12 ('eeg_bss')",
   "language": "python",
   "name": "python3"
  },
  "language_info": {
   "codemirror_mode": {
    "name": "ipython",
    "version": 3
   },
   "file_extension": ".py",
   "mimetype": "text/x-python",
   "name": "python",
   "nbconvert_exporter": "python",
   "pygments_lexer": "ipython3",
   "version": "3.9.12 (main, Apr  4 2022, 05:22:27) [MSC v.1916 64 bit (AMD64)]"
  },
  "orig_nbformat": 4,
  "vscode": {
   "interpreter": {
    "hash": "67e3c108329f12f5017428fe2a369adc30e11445a3ac975861b336e7f7941808"
   }
  }
 },
 "nbformat": 4,
 "nbformat_minor": 2
}
